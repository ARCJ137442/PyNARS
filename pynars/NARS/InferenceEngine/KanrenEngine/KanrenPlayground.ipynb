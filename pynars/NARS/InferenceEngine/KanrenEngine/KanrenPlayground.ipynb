{
 "cells": [
  {
   "cell_type": "code",
   "execution_count": 31,
   "id": "a2af36b1-5e51-4a8d-995a-91f718086b8a",
   "metadata": {},
   "outputs": [
    {
     "name": "stdout",
     "output_type": "stream",
     "text": [
      "The autoreload extension is already loaded. To reload it, use:\n",
      "  %reload_ext autoreload\n"
     ]
    },
    {
     "data": {
      "text/plain": [
       "'/Users/maxeeem/devel/PyNARS/pynars'"
      ]
     },
     "execution_count": 31,
     "metadata": {},
     "output_type": "execute_result"
    }
   ],
   "source": [
    "%load_ext autoreload\n",
    "%autoreload 2\n",
    "import os\n",
    "import sys\n",
    "module_path = os.path.abspath(os.path.join('../../../')) # or the path to your source code\n",
    "sys.path.insert(0, module_path)\n",
    "module_path"
   ]
  },
  {
   "cell_type": "code",
   "execution_count": 16,
   "id": "c523a0a5-4978-4d83-ab58-77f6e4b97cf5",
   "metadata": {},
   "outputs": [
    {
     "name": "stdout",
     "output_type": "stream",
     "text": [
      "Collecting miniKanren\n",
      "  Using cached miniKanren-1.0.3-py3-none-any.whl\n",
      "Collecting toolz (from miniKanren)\n",
      "  Downloading toolz-0.12.1-py3-none-any.whl.metadata (5.1 kB)\n",
      "Collecting cons>=0.4.0 (from miniKanren)\n",
      "  Using cached cons-0.4.6-py3-none-any.whl\n",
      "Collecting multipledispatch (from miniKanren)\n",
      "  Using cached multipledispatch-1.0.0-py3-none-any.whl.metadata (3.8 kB)\n",
      "Collecting etuples>=0.3.1 (from miniKanren)\n",
      "  Using cached etuples-0.3.9-py3-none-any.whl\n",
      "Collecting logical-unification>=0.4.1 (from miniKanren)\n",
      "  Using cached logical_unification-0.4.6-py3-none-any.whl\n",
      "Using cached multipledispatch-1.0.0-py3-none-any.whl (12 kB)\n",
      "Downloading toolz-0.12.1-py3-none-any.whl (56 kB)\n",
      "\u001b[2K   \u001b[90m━━━━━━━━━━━━━━━━━━━━━━━━━━━━━━━━━━━━━━━━\u001b[0m \u001b[32m56.1/56.1 kB\u001b[0m \u001b[31m1.0 MB/s\u001b[0m eta \u001b[36m0:00:00\u001b[0ma \u001b[36m0:00:01\u001b[0m\n",
      "\u001b[?25hInstalling collected packages: multipledispatch, toolz, logical-unification, cons, etuples, miniKanren\n",
      "Successfully installed cons-0.4.6 etuples-0.3.9 logical-unification-0.4.6 miniKanren-1.0.3 multipledispatch-1.0.0 toolz-0.12.1\n"
     ]
    }
   ],
   "source": [
    "!pip3 install miniKanren"
   ]
  },
  {
   "cell_type": "code",
   "execution_count": 34,
   "id": "ece83b89-ed90-4c97-b127-7e7cb87281b7",
   "metadata": {},
   "outputs": [
    {
     "ename": "ImportError",
     "evalue": "cannot import name 'Narsese' from 'pynars' (unknown location)",
     "output_type": "error",
     "traceback": [
      "\u001b[0;31m---------------------------------------------------------------------------\u001b[0m",
      "\u001b[0;31mImportError\u001b[0m                               Traceback (most recent call last)",
      "Cell \u001b[0;32mIn[34], line 1\u001b[0m\n\u001b[0;32m----> 1\u001b[0m \u001b[38;5;28;01mfrom\u001b[39;00m \u001b[38;5;21;01mpynars\u001b[39;00m \u001b[38;5;28;01mimport\u001b[39;00m Narsese\n\u001b[1;32m      2\u001b[0m \u001b[38;5;66;03m# import KanrenEngine\u001b[39;00m\n\u001b[1;32m      3\u001b[0m \u001b[38;5;66;03m# engine = KanrenEngine()\u001b[39;00m\n",
      "\u001b[0;31mImportError\u001b[0m: cannot import name 'Narsese' from 'pynars' (unknown location)"
     ]
    }
   ],
   "source": [
    "from pynars import Narsese\n",
    "# import KanrenEngine\n",
    "# engine = KanrenEngine()"
   ]
  }
 ],
 "metadata": {
  "kernelspec": {
   "display_name": "Python 3 (ipykernel)",
   "language": "python",
   "name": "python3"
  },
  "language_info": {
   "codemirror_mode": {
    "name": "ipython",
    "version": 3
   },
   "file_extension": ".py",
   "mimetype": "text/x-python",
   "name": "python",
   "nbconvert_exporter": "python",
   "pygments_lexer": "ipython3",
   "version": "3.11.5"
  }
 },
 "nbformat": 4,
 "nbformat_minor": 5
}
